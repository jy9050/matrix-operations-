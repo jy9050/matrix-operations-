{
 "cells": [
  {
   "cell_type": "code",
   "execution_count": 1,
   "id": "61e6dba3-bbec-4f56-848d-c83ce9ba9c0c",
   "metadata": {},
   "outputs": [
    {
     "name": "stdout",
     "output_type": "stream",
     "text": [
      "Matrix A:\n",
      " [[1 2]\n",
      " [3 4]]\n",
      "Matrix B:\n",
      " [[5 6]\n",
      " [7 8]]\n"
     ]
    }
   ],
   "source": [
    "import numpy as np\n",
    "\n",
    "# Matrix\n",
    "A = np.array([[1,2],[3,4]])\n",
    "B = np.array([[5,6],[7,8]])\n",
    "\n",
    "print(\"Matrix A:\\n\",A)\n",
    "print(\"Matrix B:\\n\",B)"
   ]
  },
  {
   "cell_type": "code",
   "execution_count": 2,
   "id": "82b3ebd5-7939-45e3-bec5-09c96115135c",
   "metadata": {},
   "outputs": [
    {
     "name": "stdout",
     "output_type": "stream",
     "text": [
      "A+B:\n",
      " [[ 6  8]\n",
      " [10 12]]\n"
     ]
    }
   ],
   "source": [
    "\n",
    "# Addition\n",
    "print(\"A+B:\\n\", A+B)"
   ]
  },
  {
   "cell_type": "code",
   "execution_count": 3,
   "id": "3d829045-68cf-4b69-81a3-3cc0af1aeed4",
   "metadata": {},
   "outputs": [
    {
     "name": "stdout",
     "output_type": "stream",
     "text": [
      "A-B:\n",
      " [[-4 -4]\n",
      " [-4 -4]]\n"
     ]
    }
   ],
   "source": [
    "\n",
    "# Subtraction\n",
    "print(\"A-B:\\n\",A-B)"
   ]
  },
  {
   "cell_type": "code",
   "execution_count": 6,
   "id": "14ec241a-07f2-4682-aa9e-0b9246e6ea51",
   "metadata": {},
   "outputs": [
    {
     "name": "stdout",
     "output_type": "stream",
     "text": [
      "A x B:\n",
      " [[19 22]\n",
      " [43 50]]\n"
     ]
    }
   ],
   "source": [
    "\n",
    "# Multiplication (Matrix product)\n",
    "print(\"A x B:\\n\", np.dot(A,B))"
   ]
  },
  {
   "cell_type": "code",
   "execution_count": 7,
   "id": "1ec3c106-fb32-4ca9-9bc9-4002a5b11ce0",
   "metadata": {},
   "outputs": [
    {
     "name": "stdout",
     "output_type": "stream",
     "text": [
      "Transpose of A:\n",
      " [[1 3]\n",
      " [2 4]]\n"
     ]
    }
   ],
   "source": [
    "\n",
    "# Transpose\n",
    "print(\"Transpose of A:\\n\",A.T)"
   ]
  },
  {
   "cell_type": "code",
   "execution_count": 8,
   "id": "b2142a74-0408-4969-8de1-e14513e0754b",
   "metadata": {},
   "outputs": [
    {
     "name": "stdout",
     "output_type": "stream",
     "text": [
      "Determinat of A: -2.0000000000000004\n"
     ]
    }
   ],
   "source": [
    "\n",
    "# Determinant\n",
    "print(\"Determinat of A:\",np.linalg.det(A))\n"
   ]
  },
  {
   "cell_type": "code",
   "execution_count": 10,
   "id": "47fd7274-bead-4c99-abf1-083ef587d2b8",
   "metadata": {},
   "outputs": [
    {
     "name": "stdout",
     "output_type": "stream",
     "text": [
      "Rank of A: 2\n"
     ]
    }
   ],
   "source": [
    "\n",
    "# Rank\n",
    "print(\"Rank of A:\",np.linalg.matrix_rank(A))"
   ]
  },
  {
   "cell_type": "code",
   "execution_count": 11,
   "id": "7303e9f7-81fc-4dba-9534-93486ff3fe84",
   "metadata": {},
   "outputs": [
    {
     "name": "stdout",
     "output_type": "stream",
     "text": [
      "Inverse of A:\n",
      " [[-2.   1. ]\n",
      " [ 1.5 -0.5]]\n"
     ]
    }
   ],
   "source": [
    "\n",
    "# Inverse\n",
    "print(\"Inverse of A:\\n\",np.linalg.inv(A))"
   ]
  },
  {
   "cell_type": "code",
   "execution_count": null,
   "id": "4694dd35-f4eb-4e42-b186-82779bcb39db",
   "metadata": {},
   "outputs": [],
   "source": []
  }
 ],
 "metadata": {
  "kernelspec": {
   "display_name": "Python [conda env:base] *",
   "language": "python",
   "name": "conda-base-py"
  },
  "language_info": {
   "codemirror_mode": {
    "name": "ipython",
    "version": 3
   },
   "file_extension": ".py",
   "mimetype": "text/x-python",
   "name": "python",
   "nbconvert_exporter": "python",
   "pygments_lexer": "ipython3",
   "version": "3.13.5"
  }
 },
 "nbformat": 4,
 "nbformat_minor": 5
}
